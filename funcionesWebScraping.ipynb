{
 "cells": [
  {
   "attachments": {},
   "cell_type": "markdown",
   "metadata": {},
   "source": [
    "### Funciones utilizando Web Scraping\n",
    "\n",
    "##### fx_dolar_oficial() -> [fecha String, cotizacion Float]\n",
    "- Devuelve Cotización del dólar oficial en $ argentinos obtenida del Banco Nación República Argentina\n",
    "\n",
    "##### fx_cer() -> [fecha String, cer Float]\n",
    "- Devuelve CER (Coeficiente de estabilización de referencia) obtenido de la web del Banco Central Repúlica Argentina"
   ]
  },
  {
   "cell_type": "code",
   "execution_count": 1,
   "metadata": {},
   "outputs": [],
   "source": [
    "\n",
    "import requests\n",
    "from bs4 import BeautifulSoup"
   ]
  },
  {
   "cell_type": "code",
   "execution_count": 2,
   "metadata": {},
   "outputs": [],
   "source": [
    "# Cotización Dólar Oficial \n",
    "# vendedor Web Banco Nación Argentina\n",
    "\n",
    "def fx_dolar_oficial():\n",
    "\n",
    "    #direccion web de la pag.\n",
    "    pag= 'https://www.bna.com.ar/Personas'\n",
    "\n",
    "    #parseo el texto de la pag. con requests y BeautifulSoup\n",
    "    html_text=requests.get(pag).text\n",
    "    soup = BeautifulSoup(html_text, 'html.parser')\n",
    "\n",
    "    #busco la div que tiene la cotizizaciones\n",
    "    mydiv=soup.find(id='billetes')\n",
    "\n",
    "\n",
    "    # busco en la tabla las th(hay una que tiene la fecha)\n",
    "    ths=mydiv.findAll('th')\n",
    "\n",
    "\n",
    "    # Extraigo y formateo la Fecha \n",
    "    fecha_cotizacion = (str(ths[0])[21:][:-5]).replace('/', '-')\n",
    "\n",
    "\n",
    "    # busco en la tabla las td (hay una que tiene la cotiz.)\n",
    "    tds=mydiv.findAll('td')\n",
    "\n",
    "    #Extraigo la cotización dolar vendedor    \n",
    "    cotizacion = float(str(tds[2])[4:][:-5].replace(',','.'))\n",
    "    \n",
    "\n",
    "\n",
    "    return ([fecha_cotizacion, cotizacion])  \n"
   ]
  },
  {
   "cell_type": "code",
   "execution_count": 3,
   "metadata": {},
   "outputs": [],
   "source": [
    "# CER - Coeficiente de estabilización de referencia\n",
    "# Web Banco Central Repúlica Argentina\n",
    "def fx_cer():\n",
    "\n",
    "    #direccion web de la pag.\n",
    "    pag= 'https://www.bcra.gob.ar'\n",
    "\n",
    "    #parseo el texto de la pag. con requests y BeautifulSoup\n",
    "    html_text=requests.get(pag).text\n",
    "    soup = BeautifulSoup(html_text, 'html.parser')\n",
    "\n",
    "\n",
    "    fecha = cer = None\n",
    "\n",
    "    #Itero las bold tags\n",
    "    for b in soup.find_all(\"b\"):\n",
    "\n",
    "        if \"CER\" in b:\n",
    "            td = (b.parent.parent.parent).findAll('td')\n",
    "            s = BeautifulSoup(str(td), 'html.parser')\n",
    "\n",
    "            #Extraigo y formateo Fecha\n",
    "            fecha = s.find('td').text[-10:].replace('/','-')\n",
    "\n",
    "            #Extraigo y formateo CER\n",
    "            cer = float ((s.find('div').text).replace(',','.'))\n",
    "            break\n",
    "\n",
    "    return ([fecha, cer])\n"
   ]
  },
  {
   "cell_type": "code",
   "execution_count": 4,
   "metadata": {},
   "outputs": [
    {
     "name": "stdout",
     "output_type": "stream",
     "text": [
      "COTIZACION DOLAR  ['11-7-2023', 275.0]\n",
      "CER  ['11-07-2023', 111.3037]\n"
     ]
    }
   ],
   "source": [
    "#Test funciones\n",
    "\n",
    "print ('COTIZACION DOLAR ', fx_dolar_oficial())\n",
    "print ('CER ', fx_cer())"
   ]
  }
 ],
 "metadata": {
  "kernelspec": {
   "display_name": "Python 3",
   "language": "python",
   "name": "python3"
  },
  "language_info": {
   "codemirror_mode": {
    "name": "ipython",
    "version": 3
   },
   "file_extension": ".py",
   "mimetype": "text/x-python",
   "name": "python",
   "nbconvert_exporter": "python",
   "pygments_lexer": "ipython3",
   "version": "3.8.10"
  },
  "orig_nbformat": 4
 },
 "nbformat": 4,
 "nbformat_minor": 2
}
