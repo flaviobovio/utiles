{
 "cells": [
  {
   "attachments": {},
   "cell_type": "markdown",
   "metadata": {},
   "source": [
    "##### es_cuit_cuil(Nro_CUIT_CUIL Int) -> Boolean\n",
    "* Devuelve True si es un CUIT o CUIL válido y False si no lo es.\n",
    "* Nota: Que sea válido no significa que exista, sólo que el dígito verificador concuerda con los demás valores"
   ]
  },
  {
   "cell_type": "code",
   "execution_count": 3,
   "metadata": {},
   "outputs": [],
   "source": [
    "# Determina si un CUIT / CUIL es válido\n",
    "def es_cuit_cuil(numero):\n",
    "\n",
    "    if type(numero) != int:\n",
    "        return False\n",
    "    \n",
    "    cuit = str(numero)\n",
    "    if len(cuit) != 11:\n",
    "        return False\n",
    "    if not cuit.isdigit():\n",
    "        return False\n",
    "    base = [5, 4, 3, 2, 7, 6, 5, 4, 3, 2]\n",
    "    aux = 0\n",
    "    for i in range(10):\n",
    "        aux += int(cuit[i]) * base[i]\n",
    "    aux = 11 - (aux % 11)\n",
    "\n",
    "    if aux == 11:\n",
    "        aux = 0\n",
    "    if int(cuit[10]) == aux:\n",
    "        return True\n",
    "    else:\n",
    "        return False\n"
   ]
  },
  {
   "cell_type": "markdown",
   "metadata": {},
   "source": []
  },
  {
   "cell_type": "code",
   "execution_count": 5,
   "metadata": {},
   "outputs": [
    {
     "data": {
      "text/plain": [
       "False"
      ]
     },
     "execution_count": 5,
     "metadata": {},
     "output_type": "execute_result"
    }
   ],
   "source": [
    "es_cuit_cuil(20224839679)"
   ]
  }
 ],
 "metadata": {
  "kernelspec": {
   "display_name": "Python 3",
   "language": "python",
   "name": "python3"
  },
  "language_info": {
   "codemirror_mode": {
    "name": "ipython",
    "version": 3
   },
   "file_extension": ".py",
   "mimetype": "text/x-python",
   "name": "python",
   "nbconvert_exporter": "python",
   "pygments_lexer": "ipython3",
   "version": "3.8.10"
  },
  "orig_nbformat": 4
 },
 "nbformat": 4,
 "nbformat_minor": 2
}
